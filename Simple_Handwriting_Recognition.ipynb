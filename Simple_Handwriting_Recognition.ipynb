{
 "cells": [
  {
   "cell_type": "markdown",
   "metadata": {},
   "source": [
    "# Simple Handwriting Recognition using Scikit-Learn\n",
    "\n",
    "Threw this together really quickly. Treat this as a small demo/tutorial as to how we can use a Random Forest Classifier to predict handwritten digits.\n",
    "\n",
    "By David (@chromadrive)"
   ]
  },
  {
   "cell_type": "markdown",
   "metadata": {},
   "source": [
    "### Import libraries and datasets\n",
    "\n",
    "We're going to be using scikit-learn because it already includes a bunch of classifiers and datasets - and one of them conveniently already happens to be one of handwriting samples."
   ]
  },
  {
   "cell_type": "code",
   "execution_count": 1,
   "metadata": {},
   "outputs": [],
   "source": [
    "# Import libraries\n",
    "import matplotlib.pyplot as plt\n",
    "from sklearn import ensemble\n",
    "import numpy as np\n",
    "%matplotlib inline\n",
    "\n",
    "#Import dataset\n",
    "from sklearn.datasets import load_digits\n",
    "\n",
    "digits = load_digits()"
   ]
  },
  {
   "cell_type": "markdown",
   "metadata": {},
   "source": [
    "### Visualize our data points\n",
    "\n",
    "Our data comes in the form of an 8x8 NumPy array. Each element represents the greyscale value of the corresponding image, with each value ranging from 0-255 (because we're working in 8-bit)\n",
    "\n",
    "Here's what one of our data points looks like when we graph it out:"
   ]
  },
  {
   "cell_type": "code",
   "execution_count": 2,
   "metadata": {},
   "outputs": [
    {
     "data": {
      "text/plain": [
       "<matplotlib.image.AxesImage at 0x7fa4a0a2c080>"
      ]
     },
     "execution_count": 2,
     "metadata": {},
     "output_type": "execute_result"
    },
    {
     "data": {
      "image/png": "[encoded data removed]",
      "text/plain": [
       "<matplotlib.figure.Figure at 0x7fa4d440d630>"
      ]
     },
     "metadata": {},
     "output_type": "display_data"
    }
   ],
   "source": [
    "plt.imshow(digits.images[0], cmap=plt.cm.gray_r)"
   ]
  },
  {
   "cell_type": "markdown",
   "metadata": {},
   "source": [
    "And we can even visualize the first few data points too. Here are the first 20 data points, with their labels."
   ]
  },
  {
   "cell_type": "code",
   "execution_count": 3,
   "metadata": {},
   "outputs": [
    {
     "data": {
      "image/png": "[encoded data removed]",
      "text/plain": [
       "<matplotlib.figure.Figure at 0x7fa4a0a2cba8>"
      ]
     },
     "metadata": {},
     "output_type": "display_data"
    }
   ],
   "source": [
    "plt.figure(figsize=(10,2))\n",
    "for i, (image, label) in enumerate(list(zip(digits.images, digits.target))[:20]):\n",
    "    plt.subplot(2, 10, i + 1)\n",
    "    plt.axis('off')\n",
    "    plt.title('%i' % label)\n",
    "    plt.imshow(image, cmap=plt.cm.gray_r)"
   ]
  },
  {
   "cell_type": "markdown",
   "metadata": {},
   "source": [
    "###  Set up our samples\n",
    "\n",
    "We need to have two samples: a training sample to train our classifier on, and a validation sample to test if it works. We'll define our input (x-variable) as the greyscale array input, and our output (y-variable) as the number being represented.\n",
    "\n",
    "To seperate the two samples, we'll just select a bunch of random elements from the dataset and place them in our training set, then we'll place everything that's not in the training set in our validation set."
   ]
  },
  {
   "cell_type": "code",
   "execution_count": 4,
   "metadata": {},
   "outputs": [],
   "source": [
    "num_samples = len(digits.images)\n",
    "x = digits.images.reshape((num_samples, -1)) # 255-[val] to every elem, so we don't have to deal with it later\n",
    "y = digits.target\n",
    "\n",
    "# Generate random indices\n",
    "training_indices = np.random.choice(len(x), len(x)//3, replace=True)\n",
    "validation_indices = [i for i in range(len(x)) if i not in training_indices]\n",
    "\n",
    "# Get training and validation images and targets\n",
    "training_images = [x[i] for i in training_indices]\n",
    "training_targets = [y[i] for i in training_indices]\n",
    "validation_images = [x[i] for i in validation_indices]\n",
    "validation_targets = [y[i] for i in validation_indices]"
   ]
  },
  {
   "cell_type": "markdown",
   "metadata": {},
   "source": [
    "### Set up and run our classifier\n",
    "\n",
    "Sounds intimidating, but scikit-learn makes it easy. We're using a Random Forest Classifier because it aggregates 'votes' from a lot of different decision trees to come up with one final answer. (Also because I tried a couple of other classifiers and this one seemed to give the best results :/)\n",
    "\n",
    "After we've fitted our model with our data, we can run it against our validation set and get a 'score' of how many we got right. "
   ]
  },
  {
   "cell_type": "code",
   "execution_count": 5,
   "metadata": {},
   "outputs": [
    {
     "data": {
      "text/plain": [
       "RandomForestClassifier(bootstrap=True, class_weight=None, criterion='gini',\n",
       "            max_depth=None, max_features='auto', max_leaf_nodes=None,\n",
       "            min_impurity_decrease=0.0, min_impurity_split=None,\n",
       "            min_samples_leaf=1, min_samples_split=2,\n",
       "            min_weight_fraction_leaf=0.0, n_estimators=10, n_jobs=1,\n",
       "            oob_score=False, random_state=None, verbose=0,\n",
       "            warm_start=False)"
      ]
     },
     "execution_count": 5,
     "metadata": {},
     "output_type": "execute_result"
    }
   ],
   "source": [
    "# Define our Random Forest Classifier\n",
    "classifier = ensemble.RandomForestClassifier()\n",
    "\n",
    "# Fit model with sample data\n",
    "classifier.fit(training_images, training_targets)"
   ]
  },
  {
   "cell_type": "code",
   "execution_count": 6,
   "metadata": {},
   "outputs": [
    {
     "name": "stdout",
     "output_type": "stream",
     "text": [
      "Proportion correctly predicted in validation set: 0.911969111969\n"
     ]
    }
   ],
   "source": [
    "# Attempt to predict our validation set\n",
    "score = classifier.score(validation_images, validation_targets)\n",
    "print('Proportion correctly predicted in validation set: ' + str(score))"
   ]
  },
  {
   "cell_type": "markdown",
   "metadata": {},
   "source": [
    "### Conclusions\n",
    "\n",
    "In this particular case, we have an accuracy rating of 90%-ish - which I think is pretty good for some code I've cobbled together in 30 minutes but I wouldn't bank on it in an actual handwriting recognition program.\n",
    "\n",
    "You can play with the classifier now if you'd like. Change the `i = ` value in the next cell and run it to see what the classifier thinks that particular digit is. Alternatively, you can use your own 8x8 digit handwriting sample and convert it into a grayscale matrix `scipy.misc.imread` but I won't get into that here."
   ]
  },
  {
   "cell_type": "code",
   "execution_count": 7,
   "metadata": {},
   "outputs": [
    {
     "data": {
      "image/png": "[encoded data removed]",
      "text/plain": [
       "<matplotlib.figure.Figure at 0x7fa4a0c645c0>"
      ]
     },
     "metadata": {},
     "output_type": "display_data"
    },
    {
     "name": "stdout",
     "output_type": "stream",
     "text": [
      "Classifier thinks this is 4\n"
     ]
    }
   ],
   "source": [
    "i = 100\n",
    "\n",
    "plt.matshow(digits.images[i], cmap=plt.cm.gray_r) \n",
    "plt.show() \n",
    "\n",
    "result = classifier.predict(x[i].reshape(1, -1))[0]\n",
    "print('Classifier thinks this is ' + str(result))"
   ]
  },
  {
   "cell_type": "code",
   "execution_count": null,
   "metadata": {},
   "outputs": [],
   "source": []
  }
 ],
 "metadata": {
  "kernelspec": {
   "display_name": "Python 3",
   "language": "python",
   "name": "python3"
  },
  "language_info": {
   "codemirror_mode": {
    "name": "ipython",
    "version": 3
   },
   "file_extension": ".py",
   "mimetype": "text/x-python",
   "name": "python",
   "nbconvert_exporter": "python",
   "pygments_lexer": "ipython3",
   "version": "3.5.3"
  }
 },
 "nbformat": 4,
 "nbformat_minor": 2
}
